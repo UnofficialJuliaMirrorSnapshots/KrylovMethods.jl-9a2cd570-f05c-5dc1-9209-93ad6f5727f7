{
 "cells": [
  {
   "cell_type": "markdown",
   "metadata": {},
   "source": [
    "# Benchmark for BiCGSTB\n",
    "\n",
    "As an example, we solve the curl-curl system arising in electromagnetics\n",
    "\n",
    "$$\n",
    "    \\nabla \\times \\nabla \\times u + \\imath w u = 0\n",
    "$$\n",
    "\n",
    "with natural boundary conditions. To generate the discrete PDE, we use a regular mesh and the mimetic finite volume discretization provided by [jInv.Mesh](https://github.com/JuliaInv/jInv.jl)\n",
    "\n",
    "A good solver for these kinds of problems is BiCGSTAB and we test the implemenation from `KrylovMethods` for growing mesh sizes. If you have another implementation please add it here and make a PR. "
   ]
  },
  {
   "cell_type": "code",
   "execution_count": null,
   "metadata": {
    "collapsed": false
   },
   "outputs": [],
   "source": [
    "using jInv.Mesh\n",
    "using KrylovMethods\n",
    "using ParSpMatVec\n",
    "using Base.Test\n",
    "\n",
    "Ns        = 16*[1,2,3,4]  # number of grid points\n",
    "nTrials   = 10            # number of repititions\n",
    "nthreads  = 4             # number of threads used to accelerate sparse matvecs\n",
    "\n",
    "# allocate space for results\n",
    "timesKM    = zeros(length(Ns),nTrials)\n",
    "timesK     = zeros(length(Ns),nTrials)\n",
    "timesKMOpt = zeros(length(Ns),nTrials)\n",
    "timesIS    = zeros(length(Ns),nTrials);"
   ]
  },
  {
   "cell_type": "code",
   "execution_count": null,
   "metadata": {
    "collapsed": false
   },
   "outputs": [],
   "source": [
    "relresKM = 0\n",
    "iterKM = 0\n",
    "iterKMOpt = 0\n",
    "relresKMOpt = 0\n",
    "for k=1:length(Ns)\n",
    "    n = Ns[k]\n",
    "    \n",
    "    # build Curl Curl system\n",
    "    M = getRegularMesh([0 1 0 1 0 1],[n,n,n])\n",
    "    CURL = getCurlMatrix(M)\n",
    "    w    = 1\n",
    "    A    = CURL'*CURL - 1im*w*I(size(CURL,2))\n",
    "    rhs  = randn(size(A,2)) + 1im *randn(size(A,2))\n",
    "    \n",
    "    if k==1 # warmup\n",
    "        resKM = KrylovMethods.bicgstb(A,rhs,tol=1e-4,maxIter=2,out=-1);\n",
    "    end\n",
    "    for j=1:nTrials\n",
    "        tic()\n",
    "        resKM = KrylovMethods.bicgstb(A,rhs,tol=1e-12,maxIter=100,out=-1)\n",
    "        timesKM[k,j] = toq();\n",
    "        iterKM = resKM[4]\n",
    "        relresKM = resKM[3]\n",
    "\n",
    "        tic()\n",
    "        yt = zeros(Complex128,size(A,1))\n",
    "        Afun(x) = (yt[:]=Complex128(0.0); ParSpMatVec.Ac_mul_B!( Complex128(1.0), A, x, Complex128(0.0), yt, nthreads); return yt)\n",
    "        resKMOpt = KrylovMethods.bicgstb(Afun,rhs,tol=1e-12,maxIter=100,out=-1)\n",
    "        timesKMOpt[k,j] = toq();\n",
    "        iterKMOpt   = resKM[4]\n",
    "        relresKMOpt = resKMOpt[3]       \n",
    "        @test iterKMOpt==iterKM\n",
    "#         @test abs(relresKMOpt-relresKM)/relresKM < 1e-1\n",
    "    end\n",
    "println(\"n=$n, KM.jl: $(mean(timesKM[k,:]))  KM.jl+ParSpMat:$(mean(timesKMOpt[k,:]))\")\n",
    "end\n"
   ]
  },
  {
   "cell_type": "code",
   "execution_count": null,
   "metadata": {
    "collapsed": false
   },
   "outputs": [],
   "source": [
    "using PyPlot"
   ]
  },
  {
   "cell_type": "code",
   "execution_count": null,
   "metadata": {
    "collapsed": false
   },
   "outputs": [],
   "source": [
    "loglog(Ns,mean(timesKM,2),\"--b\",linewidth=3)\n",
    "hold(true)\n",
    "loglog(Ns,mean(timesKMOpt,2),\"-b\",linewidth=3)\n",
    "xlabel(\"degrees of freedom\")\n",
    "ylabel(\"runtime\")\n",
    "title(\"Comparison of PCG runtimes for 3D CurlCurl\")\n",
    "legend((\"KrylovMethods.jl\",\"KrylovMethods+ParSpMatVec\"),loc=4)"
   ]
  },
  {
   "cell_type": "code",
   "execution_count": null,
   "metadata": {
    "collapsed": true
   },
   "outputs": [],
   "source": []
  }
 ],
 "metadata": {
  "kernelspec": {
   "display_name": "Julia 0.4.6-pre",
   "language": "julia",
   "name": "julia-0.4"
  },
  "language_info": {
   "file_extension": ".jl",
   "mimetype": "application/julia",
   "name": "julia",
   "version": "0.4.7"
  }
 },
 "nbformat": 4,
 "nbformat_minor": 0
}
